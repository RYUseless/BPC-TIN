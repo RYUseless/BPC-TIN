{
  "nbformat": 4,
  "nbformat_minor": 0,
  "metadata": {
    "colab": {
      "provenance": [],
      "include_colab_link": true
    },
    "kernelspec": {
      "display_name": "Python 3",
      "name": "python3"
    }
  },
  "cells": [
    {
      "cell_type": "markdown",
      "metadata": {
        "id": "view-in-github",
        "colab_type": "text"
      },
      "source": [
        "<a href=\"https://colab.research.google.com/github/RYUseless/BPC-TIN/blob/main/Copy_of_MTIN_08_excercise.ipynb\" target=\"_parent\"><img src=\"https://colab.research.google.com/assets/colab-badge.svg\" alt=\"Open In Colab\"/></a>"
      ]
    },
    {
      "cell_type": "markdown",
      "metadata": {
        "id": "9FWs6ZWNUA-n"
      },
      "source": [
        "Předpovězme druh ovoce na základě popisu jeho vlastností (velikost, barva, )"
      ]
    },
    {
      "cell_type": "markdown",
      "metadata": {
        "id": "LwHG7syFRQmX"
      },
      "source": [
        "#1) Download Data"
      ]
    },
    {
      "cell_type": "code",
      "metadata": {
        "id": "PxwrKZnuRPFd"
      },
      "source": [
        "from google.colab import files\n",
        "from six.moves import urllib\n",
        "import os\n",
        "\n",
        "# DOWNLOAD FROM INTERNET AND SAVE  \n",
        "DATASET_FILE = 'diabetes.csv'\n",
        "if not os.path.exists(DATASET_FILE):\n",
        "    DOWNLOAD_URL = 'https://gist.githubusercontent.com/ktisha/c21e73a1bd1700294ef790c56c8aec1f/raw/819b69b5736821ccee93d05b51de0510bea00294/pima-indians-diabetes.csv'\n",
        "    urllib.request.urlretrieve(DOWNLOAD_URL, DATASET_FILE)\n",
        "\n",
        "# UPLOAD YOUR OWN DATA\n",
        "# from google.colab import files\n",
        "# files.upload()"
      ],
      "execution_count": null,
      "outputs": []
    },
    {
      "cell_type": "markdown",
      "metadata": {
        "id": "EY7PfYdrS7l9"
      },
      "source": [
        "# 2.1) Show downloaded data"
      ]
    },
    {
      "cell_type": "code",
      "metadata": {
        "colab": {
          "base_uri": "https://localhost:8080/",
          "height": 398
        },
        "id": "GjQ9BcsmTCcF",
        "outputId": "26d063ce-c7f4-4bed-ac5b-ce64a9613f7f"
      },
      "source": [
        "!ls\n",
        "\n",
        "%matplotlib inline\n",
        "import pandas as pd\n",
        "import matplotlib.pyplot as plt\n",
        "dia = pd.read_table('diabetes.csv', skiprows = 9, header = None, names = ['tehot', 'gluk', 'tlak', 'triceps', 'inzul', 'bmi', 'dedicnost', 'vek', 'cukrovka'], delimiter=\",\")\n",
        "print('Number of samples: '+str(dia.shape))\n",
        "dia.head(10)\n"
      ],
      "execution_count": null,
      "outputs": [
        {
          "output_type": "stream",
          "name": "stdout",
          "text": [
            "diabetes.csv  sample_data\n",
            "Number of samples: (768, 9)\n"
          ]
        },
        {
          "output_type": "execute_result",
          "data": {
            "text/plain": [
              "   tehot  gluk  tlak  triceps  inzul   bmi  dedicnost  vek  cukrovka\n",
              "0      6   148    72       35      0  33.6      0.627   50         1\n",
              "1      1    85    66       29      0  26.6      0.351   31         0\n",
              "2      8   183    64        0      0  23.3      0.672   32         1\n",
              "3      1    89    66       23     94  28.1      0.167   21         0\n",
              "4      0   137    40       35    168  43.1      2.288   33         1\n",
              "5      5   116    74        0      0  25.6      0.201   30         0\n",
              "6      3    78    50       32     88  31.0      0.248   26         1\n",
              "7     10   115     0        0      0  35.3      0.134   29         0\n",
              "8      2   197    70       45    543  30.5      0.158   53         1\n",
              "9      8   125    96        0      0   0.0      0.232   54         1"
            ],
            "text/html": [
              "\n",
              "  <div id=\"df-199b5544-4c68-4a9a-9c73-4fcf639bc0fa\">\n",
              "    <div class=\"colab-df-container\">\n",
              "      <div>\n",
              "<style scoped>\n",
              "    .dataframe tbody tr th:only-of-type {\n",
              "        vertical-align: middle;\n",
              "    }\n",
              "\n",
              "    .dataframe tbody tr th {\n",
              "        vertical-align: top;\n",
              "    }\n",
              "\n",
              "    .dataframe thead th {\n",
              "        text-align: right;\n",
              "    }\n",
              "</style>\n",
              "<table border=\"1\" class=\"dataframe\">\n",
              "  <thead>\n",
              "    <tr style=\"text-align: right;\">\n",
              "      <th></th>\n",
              "      <th>tehot</th>\n",
              "      <th>gluk</th>\n",
              "      <th>tlak</th>\n",
              "      <th>triceps</th>\n",
              "      <th>inzul</th>\n",
              "      <th>bmi</th>\n",
              "      <th>dedicnost</th>\n",
              "      <th>vek</th>\n",
              "      <th>cukrovka</th>\n",
              "    </tr>\n",
              "  </thead>\n",
              "  <tbody>\n",
              "    <tr>\n",
              "      <th>0</th>\n",
              "      <td>6</td>\n",
              "      <td>148</td>\n",
              "      <td>72</td>\n",
              "      <td>35</td>\n",
              "      <td>0</td>\n",
              "      <td>33.6</td>\n",
              "      <td>0.627</td>\n",
              "      <td>50</td>\n",
              "      <td>1</td>\n",
              "    </tr>\n",
              "    <tr>\n",
              "      <th>1</th>\n",
              "      <td>1</td>\n",
              "      <td>85</td>\n",
              "      <td>66</td>\n",
              "      <td>29</td>\n",
              "      <td>0</td>\n",
              "      <td>26.6</td>\n",
              "      <td>0.351</td>\n",
              "      <td>31</td>\n",
              "      <td>0</td>\n",
              "    </tr>\n",
              "    <tr>\n",
              "      <th>2</th>\n",
              "      <td>8</td>\n",
              "      <td>183</td>\n",
              "      <td>64</td>\n",
              "      <td>0</td>\n",
              "      <td>0</td>\n",
              "      <td>23.3</td>\n",
              "      <td>0.672</td>\n",
              "      <td>32</td>\n",
              "      <td>1</td>\n",
              "    </tr>\n",
              "    <tr>\n",
              "      <th>3</th>\n",
              "      <td>1</td>\n",
              "      <td>89</td>\n",
              "      <td>66</td>\n",
              "      <td>23</td>\n",
              "      <td>94</td>\n",
              "      <td>28.1</td>\n",
              "      <td>0.167</td>\n",
              "      <td>21</td>\n",
              "      <td>0</td>\n",
              "    </tr>\n",
              "    <tr>\n",
              "      <th>4</th>\n",
              "      <td>0</td>\n",
              "      <td>137</td>\n",
              "      <td>40</td>\n",
              "      <td>35</td>\n",
              "      <td>168</td>\n",
              "      <td>43.1</td>\n",
              "      <td>2.288</td>\n",
              "      <td>33</td>\n",
              "      <td>1</td>\n",
              "    </tr>\n",
              "    <tr>\n",
              "      <th>5</th>\n",
              "      <td>5</td>\n",
              "      <td>116</td>\n",
              "      <td>74</td>\n",
              "      <td>0</td>\n",
              "      <td>0</td>\n",
              "      <td>25.6</td>\n",
              "      <td>0.201</td>\n",
              "      <td>30</td>\n",
              "      <td>0</td>\n",
              "    </tr>\n",
              "    <tr>\n",
              "      <th>6</th>\n",
              "      <td>3</td>\n",
              "      <td>78</td>\n",
              "      <td>50</td>\n",
              "      <td>32</td>\n",
              "      <td>88</td>\n",
              "      <td>31.0</td>\n",
              "      <td>0.248</td>\n",
              "      <td>26</td>\n",
              "      <td>1</td>\n",
              "    </tr>\n",
              "    <tr>\n",
              "      <th>7</th>\n",
              "      <td>10</td>\n",
              "      <td>115</td>\n",
              "      <td>0</td>\n",
              "      <td>0</td>\n",
              "      <td>0</td>\n",
              "      <td>35.3</td>\n",
              "      <td>0.134</td>\n",
              "      <td>29</td>\n",
              "      <td>0</td>\n",
              "    </tr>\n",
              "    <tr>\n",
              "      <th>8</th>\n",
              "      <td>2</td>\n",
              "      <td>197</td>\n",
              "      <td>70</td>\n",
              "      <td>45</td>\n",
              "      <td>543</td>\n",
              "      <td>30.5</td>\n",
              "      <td>0.158</td>\n",
              "      <td>53</td>\n",
              "      <td>1</td>\n",
              "    </tr>\n",
              "    <tr>\n",
              "      <th>9</th>\n",
              "      <td>8</td>\n",
              "      <td>125</td>\n",
              "      <td>96</td>\n",
              "      <td>0</td>\n",
              "      <td>0</td>\n",
              "      <td>0.0</td>\n",
              "      <td>0.232</td>\n",
              "      <td>54</td>\n",
              "      <td>1</td>\n",
              "    </tr>\n",
              "  </tbody>\n",
              "</table>\n",
              "</div>\n",
              "      <button class=\"colab-df-convert\" onclick=\"convertToInteractive('df-199b5544-4c68-4a9a-9c73-4fcf639bc0fa')\"\n",
              "              title=\"Convert this dataframe to an interactive table.\"\n",
              "              style=\"display:none;\">\n",
              "        \n",
              "  <svg xmlns=\"http://www.w3.org/2000/svg\" height=\"24px\"viewBox=\"0 0 24 24\"\n",
              "       width=\"24px\">\n",
              "    <path d=\"M0 0h24v24H0V0z\" fill=\"none\"/>\n",
              "    <path d=\"M18.56 5.44l.94 2.06.94-2.06 2.06-.94-2.06-.94-.94-2.06-.94 2.06-2.06.94zm-11 1L8.5 8.5l.94-2.06 2.06-.94-2.06-.94L8.5 2.5l-.94 2.06-2.06.94zm10 10l.94 2.06.94-2.06 2.06-.94-2.06-.94-.94-2.06-.94 2.06-2.06.94z\"/><path d=\"M17.41 7.96l-1.37-1.37c-.4-.4-.92-.59-1.43-.59-.52 0-1.04.2-1.43.59L10.3 9.45l-7.72 7.72c-.78.78-.78 2.05 0 2.83L4 21.41c.39.39.9.59 1.41.59.51 0 1.02-.2 1.41-.59l7.78-7.78 2.81-2.81c.8-.78.8-2.07 0-2.86zM5.41 20L4 18.59l7.72-7.72 1.47 1.35L5.41 20z\"/>\n",
              "  </svg>\n",
              "      </button>\n",
              "      \n",
              "  <style>\n",
              "    .colab-df-container {\n",
              "      display:flex;\n",
              "      flex-wrap:wrap;\n",
              "      gap: 12px;\n",
              "    }\n",
              "\n",
              "    .colab-df-convert {\n",
              "      background-color: #E8F0FE;\n",
              "      border: none;\n",
              "      border-radius: 50%;\n",
              "      cursor: pointer;\n",
              "      display: none;\n",
              "      fill: #1967D2;\n",
              "      height: 32px;\n",
              "      padding: 0 0 0 0;\n",
              "      width: 32px;\n",
              "    }\n",
              "\n",
              "    .colab-df-convert:hover {\n",
              "      background-color: #E2EBFA;\n",
              "      box-shadow: 0px 1px 2px rgba(60, 64, 67, 0.3), 0px 1px 3px 1px rgba(60, 64, 67, 0.15);\n",
              "      fill: #174EA6;\n",
              "    }\n",
              "\n",
              "    [theme=dark] .colab-df-convert {\n",
              "      background-color: #3B4455;\n",
              "      fill: #D2E3FC;\n",
              "    }\n",
              "\n",
              "    [theme=dark] .colab-df-convert:hover {\n",
              "      background-color: #434B5C;\n",
              "      box-shadow: 0px 1px 3px 1px rgba(0, 0, 0, 0.15);\n",
              "      filter: drop-shadow(0px 1px 2px rgba(0, 0, 0, 0.3));\n",
              "      fill: #FFFFFF;\n",
              "    }\n",
              "  </style>\n",
              "\n",
              "      <script>\n",
              "        const buttonEl =\n",
              "          document.querySelector('#df-199b5544-4c68-4a9a-9c73-4fcf639bc0fa button.colab-df-convert');\n",
              "        buttonEl.style.display =\n",
              "          google.colab.kernel.accessAllowed ? 'block' : 'none';\n",
              "\n",
              "        async function convertToInteractive(key) {\n",
              "          const element = document.querySelector('#df-199b5544-4c68-4a9a-9c73-4fcf639bc0fa');\n",
              "          const dataTable =\n",
              "            await google.colab.kernel.invokeFunction('convertToInteractive',\n",
              "                                                     [key], {});\n",
              "          if (!dataTable) return;\n",
              "\n",
              "          const docLinkHtml = 'Like what you see? Visit the ' +\n",
              "            '<a target=\"_blank\" href=https://colab.research.google.com/notebooks/data_table.ipynb>data table notebook</a>'\n",
              "            + ' to learn more about interactive tables.';\n",
              "          element.innerHTML = '';\n",
              "          dataTable['output_type'] = 'display_data';\n",
              "          await google.colab.output.renderOutput(dataTable, element);\n",
              "          const docLink = document.createElement('div');\n",
              "          docLink.innerHTML = docLinkHtml;\n",
              "          element.appendChild(docLink);\n",
              "        }\n",
              "      </script>\n",
              "    </div>\n",
              "  </div>\n",
              "  "
            ]
          },
          "metadata": {},
          "execution_count": 2
        }
      ]
    },
    {
      "cell_type": "markdown",
      "metadata": {
        "id": "bgLOkFTQTCDn"
      },
      "source": [
        "# 2.2) Count number of samples\n"
      ]
    },
    {
      "cell_type": "code",
      "metadata": {
        "colab": {
          "base_uri": "https://localhost:8080/",
          "height": 537
        },
        "id": "Z0R5pE-eQ3Tx",
        "outputId": "d2270018-dc8e-4b3b-deea-5a517bec3caa"
      },
      "source": [
        "print(dia.shape)\n",
        "print(dia.groupby('cukrovka').size())\n",
        "\n",
        "import seaborn as sns\n",
        "sns.countplot(x=dia['cukrovka'],label=\"Count\")\n",
        "plt.show()"
      ],
      "execution_count": null,
      "outputs": [
        {
          "output_type": "stream",
          "name": "stdout",
          "text": [
            "(768, 9)\n",
            "cukrovka\n",
            "0    500\n",
            "1    268\n",
            "dtype: int64\n"
          ]
        },
        {
          "output_type": "display_data",
          "data": {
            "text/plain": [
              "<Figure size 640x480 with 1 Axes>"
            ],
            "image/png": "[encoded data removed]"
          },
          "metadata": {}
        }
      ]
    },
    {
      "cell_type": "code",
      "metadata": {
        "colab": {
          "base_uri": "https://localhost:8080/"
        },
        "id": "SRDRqca5W-Ct",
        "outputId": "a90fa9b1-0e1c-484f-9dfc-267b609760f9"
      },
      "source": [
        "#from pandas.tools.plotting import scatter_matrix\n",
        "from matplotlib import cm\n",
        "feature_names = ['tehot', 'gluk', 'tlak', 'triceps', 'inzul', 'bmi', 'dedicnost', 'vek']\n",
        "X = dia[feature_names]\n",
        "y = dia['cukrovka']\n",
        "#cmap = cm.get_cmap('gnuplot')\n",
        "#scatter = pd.scatter_matrix(X, c = y, marker = 'o', s=40, hist_kwds={'bins':15}, figsize=(9,9), cmap = cmap)\n",
        "#plt.suptitle('Scatter-matrix for each input variable')\n",
        "#plt.savefig('fruits_scatter_matrix')\n",
        "print(X.shape)\n",
        "print(y.shape)"
      ],
      "execution_count": null,
      "outputs": [
        {
          "output_type": "stream",
          "name": "stdout",
          "text": [
            "(768, 8)\n",
            "(768,)\n"
          ]
        }
      ]
    },
    {
      "cell_type": "markdown",
      "metadata": {
        "id": "MI40LyZVV-uz"
      },
      "source": [
        "# 2.3 Show features statistics"
      ]
    },
    {
      "cell_type": "code",
      "metadata": {
        "colab": {
          "base_uri": "https://localhost:8080/",
          "height": 843
        },
        "id": "p15AuUSqWyI4",
        "outputId": "3cc95b66-1933-4ce4-e503-587ac90331bf"
      },
      "source": [
        "import pylab as pl\n",
        "X.hist(bins=30, figsize=(9,9))\n",
        "pl.suptitle(\"Histogram for each numeric input variable\")\n",
        "#plt.savefig('fruits_hist')\n",
        "plt.show() # if you run the code at local machine"
      ],
      "execution_count": null,
      "outputs": [
        {
          "output_type": "display_data",
          "data": {
            "text/plain": [
              "<Figure size 900x900 with 9 Axes>"
            ],
            "image/png": "[encoded data removed]"
          },
          "metadata": {}
        }
      ]
    },
    {
      "cell_type": "code",
      "metadata": {
        "colab": {
          "base_uri": "https://localhost:8080/",
          "height": 843
        },
        "id": "vWXvXDvKV-C0",
        "outputId": "9797f688-45c0-499c-f48a-9a447bce39e8"
      },
      "source": [
        "X.plot(kind='box', subplots=True, layout=(3,3), sharex=False, sharey=False, figsize=(9,9), title='Box Plot for each input variable')\n",
        "# plt.savefig('fruits_box')\n",
        "plt.show() # if you run the code at local machine"
      ],
      "execution_count": null,
      "outputs": [
        {
          "output_type": "display_data",
          "data": {
            "text/plain": [
              "<Figure size 900x900 with 9 Axes>"
            ],
            "image/png": "[encoded data removed]"
          },
          "metadata": {}
        }
      ]
    },
    {
      "cell_type": "markdown",
      "metadata": {
        "id": "SWp6eLyBzvjk"
      },
      "source": [
        "# 3) Create Training and Test Sets and Apply Scaling"
      ]
    },
    {
      "cell_type": "code",
      "metadata": {
        "id": "ZUmAGaxGzsvn",
        "colab": {
          "base_uri": "https://localhost:8080/"
        },
        "outputId": "f3b87be1-130e-4d92-f6e1-75f4e0909009"
      },
      "source": [
        "from sklearn.model_selection import train_test_split\n",
        "X_train, X_test, y_train, y_test = train_test_split(X, y, test_size=0.33, random_state=2000)\n",
        "\n",
        "print('Number of Original :'+str(X.shape))\n",
        "print('Number of samples Train:'+str(X_train.shape))\n",
        "print('Number of samples Test: '+str(X_test.shape))"
      ],
      "execution_count": null,
      "outputs": [
        {
          "output_type": "stream",
          "name": "stdout",
          "text": [
            "Number of Original :(768, 8)\n",
            "Number of samples Train:(514, 8)\n",
            "Number of samples Test: (254, 8)\n"
          ]
        }
      ]
    },
    {
      "cell_type": "markdown",
      "metadata": {
        "id": "VkrTp445a6j7"
      },
      "source": [
        "# 4) Normalize Data"
      ]
    },
    {
      "cell_type": "code",
      "metadata": {
        "colab": {
          "base_uri": "https://localhost:8080/",
          "height": 206
        },
        "id": "DxIik-vJ0cy2",
        "outputId": "c219c8ea-bb6c-4ecd-afed-de3f56edf1ce"
      },
      "source": [
        "from sklearn.preprocessing import MinMaxScaler\n",
        "scaler = MinMaxScaler()\n",
        "X_train = scaler.fit_transform(X_train)\n",
        "X_test = scaler.transform(X_test)\n",
        "\n",
        "import pandas as pd\n",
        "#dataset = pd.DataFrame(X_train)\n",
        "#dataset.head()\n",
        "dataset2 = pd.DataFrame(X_test)\n",
        "dataset2.head()"
      ],
      "execution_count": null,
      "outputs": [
        {
          "output_type": "execute_result",
          "data": {
            "text/plain": [
              "          0         1         2         3         4         5         6  \\\n",
              "0  0.117647  0.562814  0.657895  0.323232  0.000000  0.623037  0.031097   \n",
              "1  0.000000  0.432161  0.596491  0.323232  0.000000  0.624782  0.071080   \n",
              "2  0.235294  0.648241  0.754386  0.202020  0.319149  0.612565  0.067970   \n",
              "3  0.411765  0.597990  0.000000  0.000000  0.000000  0.439791  0.058196   \n",
              "4  0.000000  0.507538  0.561404  0.171717  0.000000  0.366492  0.077299   \n",
              "\n",
              "          7  \n",
              "0  0.000000  \n",
              "1  0.066667  \n",
              "2  0.033333  \n",
              "3  0.266667  \n",
              "4  0.000000  "
            ],
            "text/html": [
              "\n",
              "  <div id=\"df-07f621f0-b3a2-42c3-aff6-069a851b8d9b\">\n",
              "    <div class=\"colab-df-container\">\n",
              "      <div>\n",
              "<style scoped>\n",
              "    .dataframe tbody tr th:only-of-type {\n",
              "        vertical-align: middle;\n",
              "    }\n",
              "\n",
              "    .dataframe tbody tr th {\n",
              "        vertical-align: top;\n",
              "    }\n",
              "\n",
              "    .dataframe thead th {\n",
              "        text-align: right;\n",
              "    }\n",
              "</style>\n",
              "<table border=\"1\" class=\"dataframe\">\n",
              "  <thead>\n",
              "    <tr style=\"text-align: right;\">\n",
              "      <th></th>\n",
              "      <th>0</th>\n",
              "      <th>1</th>\n",
              "      <th>2</th>\n",
              "      <th>3</th>\n",
              "      <th>4</th>\n",
              "      <th>5</th>\n",
              "      <th>6</th>\n",
              "      <th>7</th>\n",
              "    </tr>\n",
              "  </thead>\n",
              "  <tbody>\n",
              "    <tr>\n",
              "      <th>0</th>\n",
              "      <td>0.117647</td>\n",
              "      <td>0.562814</td>\n",
              "      <td>0.657895</td>\n",
              "      <td>0.323232</td>\n",
              "      <td>0.000000</td>\n",
              "      <td>0.623037</td>\n",
              "      <td>0.031097</td>\n",
              "      <td>0.000000</td>\n",
              "    </tr>\n",
              "    <tr>\n",
              "      <th>1</th>\n",
              "      <td>0.000000</td>\n",
              "      <td>0.432161</td>\n",
              "      <td>0.596491</td>\n",
              "      <td>0.323232</td>\n",
              "      <td>0.000000</td>\n",
              "      <td>0.624782</td>\n",
              "      <td>0.071080</td>\n",
              "      <td>0.066667</td>\n",
              "    </tr>\n",
              "    <tr>\n",
              "      <th>2</th>\n",
              "      <td>0.235294</td>\n",
              "      <td>0.648241</td>\n",
              "      <td>0.754386</td>\n",
              "      <td>0.202020</td>\n",
              "      <td>0.319149</td>\n",
              "      <td>0.612565</td>\n",
              "      <td>0.067970</td>\n",
              "      <td>0.033333</td>\n",
              "    </tr>\n",
              "    <tr>\n",
              "      <th>3</th>\n",
              "      <td>0.411765</td>\n",
              "      <td>0.597990</td>\n",
              "      <td>0.000000</td>\n",
              "      <td>0.000000</td>\n",
              "      <td>0.000000</td>\n",
              "      <td>0.439791</td>\n",
              "      <td>0.058196</td>\n",
              "      <td>0.266667</td>\n",
              "    </tr>\n",
              "    <tr>\n",
              "      <th>4</th>\n",
              "      <td>0.000000</td>\n",
              "      <td>0.507538</td>\n",
              "      <td>0.561404</td>\n",
              "      <td>0.171717</td>\n",
              "      <td>0.000000</td>\n",
              "      <td>0.366492</td>\n",
              "      <td>0.077299</td>\n",
              "      <td>0.000000</td>\n",
              "    </tr>\n",
              "  </tbody>\n",
              "</table>\n",
              "</div>\n",
              "      <button class=\"colab-df-convert\" onclick=\"convertToInteractive('df-07f621f0-b3a2-42c3-aff6-069a851b8d9b')\"\n",
              "              title=\"Convert this dataframe to an interactive table.\"\n",
              "              style=\"display:none;\">\n",
              "        \n",
              "  <svg xmlns=\"http://www.w3.org/2000/svg\" height=\"24px\"viewBox=\"0 0 24 24\"\n",
              "       width=\"24px\">\n",
              "    <path d=\"M0 0h24v24H0V0z\" fill=\"none\"/>\n",
              "    <path d=\"M18.56 5.44l.94 2.06.94-2.06 2.06-.94-2.06-.94-.94-2.06-.94 2.06-2.06.94zm-11 1L8.5 8.5l.94-2.06 2.06-.94-2.06-.94L8.5 2.5l-.94 2.06-2.06.94zm10 10l.94 2.06.94-2.06 2.06-.94-2.06-.94-.94-2.06-.94 2.06-2.06.94z\"/><path d=\"M17.41 7.96l-1.37-1.37c-.4-.4-.92-.59-1.43-.59-.52 0-1.04.2-1.43.59L10.3 9.45l-7.72 7.72c-.78.78-.78 2.05 0 2.83L4 21.41c.39.39.9.59 1.41.59.51 0 1.02-.2 1.41-.59l7.78-7.78 2.81-2.81c.8-.78.8-2.07 0-2.86zM5.41 20L4 18.59l7.72-7.72 1.47 1.35L5.41 20z\"/>\n",
              "  </svg>\n",
              "      </button>\n",
              "      \n",
              "  <style>\n",
              "    .colab-df-container {\n",
              "      display:flex;\n",
              "      flex-wrap:wrap;\n",
              "      gap: 12px;\n",
              "    }\n",
              "\n",
              "    .colab-df-convert {\n",
              "      background-color: #E8F0FE;\n",
              "      border: none;\n",
              "      border-radius: 50%;\n",
              "      cursor: pointer;\n",
              "      display: none;\n",
              "      fill: #1967D2;\n",
              "      height: 32px;\n",
              "      padding: 0 0 0 0;\n",
              "      width: 32px;\n",
              "    }\n",
              "\n",
              "    .colab-df-convert:hover {\n",
              "      background-color: #E2EBFA;\n",
              "      box-shadow: 0px 1px 2px rgba(60, 64, 67, 0.3), 0px 1px 3px 1px rgba(60, 64, 67, 0.15);\n",
              "      fill: #174EA6;\n",
              "    }\n",
              "\n",
              "    [theme=dark] .colab-df-convert {\n",
              "      background-color: #3B4455;\n",
              "      fill: #D2E3FC;\n",
              "    }\n",
              "\n",
              "    [theme=dark] .colab-df-convert:hover {\n",
              "      background-color: #434B5C;\n",
              "      box-shadow: 0px 1px 3px 1px rgba(0, 0, 0, 0.15);\n",
              "      filter: drop-shadow(0px 1px 2px rgba(0, 0, 0, 0.3));\n",
              "      fill: #FFFFFF;\n",
              "    }\n",
              "  </style>\n",
              "\n",
              "      <script>\n",
              "        const buttonEl =\n",
              "          document.querySelector('#df-07f621f0-b3a2-42c3-aff6-069a851b8d9b button.colab-df-convert');\n",
              "        buttonEl.style.display =\n",
              "          google.colab.kernel.accessAllowed ? 'block' : 'none';\n",
              "\n",
              "        async function convertToInteractive(key) {\n",
              "          const element = document.querySelector('#df-07f621f0-b3a2-42c3-aff6-069a851b8d9b');\n",
              "          const dataTable =\n",
              "            await google.colab.kernel.invokeFunction('convertToInteractive',\n",
              "                                                     [key], {});\n",
              "          if (!dataTable) return;\n",
              "\n",
              "          const docLinkHtml = 'Like what you see? Visit the ' +\n",
              "            '<a target=\"_blank\" href=https://colab.research.google.com/notebooks/data_table.ipynb>data table notebook</a>'\n",
              "            + ' to learn more about interactive tables.';\n",
              "          element.innerHTML = '';\n",
              "          dataTable['output_type'] = 'display_data';\n",
              "          await google.colab.output.renderOutput(dataTable, element);\n",
              "          const docLink = document.createElement('div');\n",
              "          docLink.innerHTML = docLinkHtml;\n",
              "          element.appendChild(docLink);\n",
              "        }\n",
              "      </script>\n",
              "    </div>\n",
              "  </div>\n",
              "  "
            ]
          },
          "metadata": {},
          "execution_count": 8
        }
      ]
    },
    {
      "cell_type": "markdown",
      "metadata": {
        "id": "gXonZNVXpoaE"
      },
      "source": [
        "# 5) Cross validation\n",
        " We use SVM learning algorithm, 3-fold cross validation"
      ]
    },
    {
      "cell_type": "code",
      "metadata": {
        "colab": {
          "base_uri": "https://localhost:8080/"
        },
        "id": "Mw93_oGRa-XB",
        "outputId": "4fe687f6-09f2-4373-b86b-44774749be77"
      },
      "source": [
        "from sklearn.model_selection import cross_val_score\n",
        "from sklearn import svm\n",
        "clf = svm.SVC(kernel='linear', C=1)\n",
        "scores = cross_val_score(clf, X_train, y_train, cv=10)\n",
        "scores.mean()\n",
        "scores"
      ],
      "execution_count": null,
      "outputs": [
        {
          "output_type": "execute_result",
          "data": {
            "text/plain": [
              "array([0.76923077, 0.73076923, 0.80769231, 0.75      , 0.76470588,\n",
              "       0.66666667, 0.80392157, 0.76470588, 0.78431373, 0.7254902 ])"
            ]
          },
          "metadata": {},
          "execution_count": 9
        }
      ]
    },
    {
      "cell_type": "markdown",
      "metadata": {
        "id": "fQnDfVMpv9mp"
      },
      "source": [
        "Sumarizace výsledků (průměr a směrodatná odchylka):"
      ]
    },
    {
      "cell_type": "code",
      "metadata": {
        "colab": {
          "base_uri": "https://localhost:8080/"
        },
        "id": "MJQEWzWKpqIx",
        "outputId": "2532f6b7-567d-4a08-e420-1c4acfec78ee"
      },
      "source": [
        "print(\"Accuracy: %0.2f (+/- %0.2f) %%\" % (100*scores.mean(), 100*scores.std() * 2))"
      ],
      "execution_count": null,
      "outputs": [
        {
          "output_type": "stream",
          "name": "stdout",
          "text": [
            "Accuracy: 75.67 (+/- 7.92) %\n"
          ]
        }
      ]
    },
    {
      "cell_type": "markdown",
      "metadata": {
        "id": "Affob4LkyMb9"
      },
      "source": [
        "# 6) Machine learning - from data to knowledge representation"
      ]
    },
    {
      "cell_type": "markdown",
      "metadata": {
        "id": "ZLX-OqgryWha"
      },
      "source": [
        "## 6.1) Logistic regression"
      ]
    },
    {
      "cell_type": "code",
      "metadata": {
        "colab": {
          "base_uri": "https://localhost:8080/"
        },
        "id": "VcBD2zBjwwq2",
        "outputId": "a0c369cb-c40f-4302-c8fd-5ad95a869df6"
      },
      "source": [
        "from sklearn.linear_model import LogisticRegression\n",
        "logreg = LogisticRegression()\n",
        "logreg.fit(X_train, y_train)\n",
        "print('Accuracy of Logistic regression classifier on training set: {:.2f}'\n",
        "     .format(logreg.score(X_train, y_train)))\n",
        "print('Accuracy of Logistic regression classifier on test set: {:.2f}'\n",
        "     .format(logreg.score(X_test, y_test)))"
      ],
      "execution_count": null,
      "outputs": [
        {
          "output_type": "stream",
          "name": "stdout",
          "text": [
            "Accuracy of Logistic regression classifier on training set: 0.77\n",
            "Accuracy of Logistic regression classifier on test set: 0.78\n"
          ]
        }
      ]
    },
    {
      "cell_type": "markdown",
      "metadata": {
        "id": "4cYG0ILKyp4m"
      },
      "source": [
        "## 6.2) Decision trees"
      ]
    },
    {
      "cell_type": "code",
      "metadata": {
        "colab": {
          "base_uri": "https://localhost:8080/"
        },
        "id": "6yoXQvHdykrP",
        "outputId": "6d3a255e-0e4e-4d28-8292-044df4acaf35"
      },
      "source": [
        "from sklearn.tree import DecisionTreeClassifier\n",
        "clf = DecisionTreeClassifier(criterion=\"gini\").fit(X_train, y_train)\n",
        "print('Accuracy of Decision Tree classifier on training set: {:.2f}'\n",
        "     .format(clf.score(X_train, y_train)))\n",
        "print('Accuracy of Decision Tree classifier on test set: {:.2f}'\n",
        "     .format(clf.score(X_test, y_test)))"
      ],
      "execution_count": null,
      "outputs": [
        {
          "output_type": "stream",
          "name": "stdout",
          "text": [
            "Accuracy of Decision Tree classifier on training set: 1.00\n",
            "Accuracy of Decision Tree classifier on test set: 0.71\n"
          ]
        }
      ]
    },
    {
      "cell_type": "markdown",
      "metadata": {
        "id": "G15DjOAuy2op"
      },
      "source": [
        "## 6.3) k-Nearest Negbours"
      ]
    },
    {
      "cell_type": "code",
      "metadata": {
        "colab": {
          "base_uri": "https://localhost:8080/"
        },
        "id": "6tckkuz-yt6H",
        "outputId": "cf8eccc3-82c7-4674-df9d-6ee9b6a6a178"
      },
      "source": [
        "from sklearn.neighbors import KNeighborsClassifier\n",
        "knn = KNeighborsClassifier(n_neighbors= 3) \n",
        "knn.fit(X_train, y_train)\n",
        "print('Accuracy of K-NN classifier on training set: {:.2f}'\n",
        "     .format(knn.score(X_train, y_train)))\n",
        "print('Accuracy of K-NN classifier on test set: {:.2f}'\n",
        "     .format(knn.score(X_test, y_test)))"
      ],
      "execution_count": null,
      "outputs": [
        {
          "output_type": "stream",
          "name": "stdout",
          "text": [
            "Accuracy of K-NN classifier on training set: 0.85\n",
            "Accuracy of K-NN classifier on test set: 0.77\n"
          ]
        }
      ]
    },
    {
      "cell_type": "markdown",
      "metadata": {
        "id": "fFbirvklzLo6"
      },
      "source": [
        "## 6.4) Support Vector Machines"
      ]
    },
    {
      "cell_type": "code",
      "metadata": {
        "colab": {
          "base_uri": "https://localhost:8080/"
        },
        "id": "jeuacf1Pyyu-",
        "outputId": "add9d4fb-a814-48e3-9f02-e2a0acb7f308"
      },
      "source": [
        "from sklearn.svm import SVC\n",
        "svm = SVC() # Needs \"probability=True\", otherwise probabilities are not computed!\n",
        "svm.fit(X_train, y_train)\n",
        "print('Accuracy of SVM classifier on training set: {:.2f}'\n",
        "     .format(svm.score(X_train, y_train)))\n",
        "print('Accuracy of SVM classifier on test set: {:.2f}'\n",
        "     .format(svm.score(X_test, y_test)))"
      ],
      "execution_count": null,
      "outputs": [
        {
          "output_type": "stream",
          "name": "stdout",
          "text": [
            "Accuracy of SVM classifier on training set: 0.80\n",
            "Accuracy of SVM classifier on test set: 0.81\n"
          ]
        }
      ]
    },
    {
      "cell_type": "markdown",
      "metadata": {
        "id": "7tnSWd1K1UcZ"
      },
      "source": [
        "## 6.5)  Neural Network"
      ]
    },
    {
      "cell_type": "code",
      "metadata": {
        "colab": {
          "base_uri": "https://localhost:8080/"
        },
        "id": "wvHLKQDL1Wxf",
        "outputId": "95b0f725-0f7a-407b-8083-88742b7ff3a5"
      },
      "source": [
        "from sklearn.neural_network import MLPClassifier\n",
        "nn = MLPClassifier(solver='lbfgs', alpha=1e-5, hidden_layer_sizes=(5, 3), random_state=1)\n",
        "nn.fit(X_train, y_train)  \n",
        "print('Accuracy of NN classifier on training set: {:.2f}'\n",
        "     .format(nn.score(X_train, y_train)))\n",
        "print('Accuracy of NN classifier on test set: {:.2f}'\n",
        "     .format(nn.score(X_test, y_test))) "
      ],
      "execution_count": null,
      "outputs": [
        {
          "output_type": "stream",
          "name": "stdout",
          "text": [
            "Accuracy of NN classifier on training set: 0.78\n",
            "Accuracy of NN classifier on test set: 0.78\n"
          ]
        }
      ]
    },
    {
      "cell_type": "markdown",
      "metadata": {
        "id": "yEbatedaCruz"
      },
      "source": [
        "# 7) How to use the model for prediction?\n",
        "\n",
        "Measured values from sensors:\n",
        "\n",
        "![image.png](data:image/png;base64,iVBORw0KGgoAAAANSUhEUgAAAJUAAAAQCAYAAAAf3z0kAAAAAXNSR0IArs4c6QAAAARnQU1BAACxjwv8YQUAAAAJcEhZcwAADsMAAA7DAcdvqGQAAAOQSURBVGhD7ZlNSFRRFMfPtEwqMqjEzCJsUwmaUOBQRh+LMjctXDRGHxPVIlqVoVEEWUm1qKComT4WFbpoo7VwLJpJFwai4EdoEiooFZKQYduX/zvnPu+Mb968ee+JLt4PHnPPvTN37jnzP+feqz5tBvLwcJEl/Orh4RpzRFVbW0s+n4+qqqq4J07J82paWn+UQt0fuGeW4LvHYsxoPP/hOX0sOtrPvc443Hjb0ZxY07VYI1v2UdchH6sgTvIziJ8bIBZyzkz8U38jtFXMxvx+v9BKOBzmHgbbn0pNTY02MDDAVpyr0QbxnGp+pD3tauXeOLDLG26xpWnbn13ilib61fevf3CWW/bBfFiHRP0+K+CzeOCPU+Dfp5E+tuK2FeCDGgv4oM5jl+Q5rWL23nTztLS0aKFQiK04lra/67srxWPE2NRvqthcwhbRoU3FerVqrrxMp4v2iTYoXJ3PLfvg+3bkFrBFlJO1klvpQSb/mv6T8HknwL+y/C1sWQcxGT2fWJ3szKMC344XlrFFdKZovyvV2A6Oz1Trlq+ipm+dbBG97ImKHz4ZCG1N1gq27ANx32h/q5fk4rUbeSQ99zqahRDmA/iXyVqAPFIgEZ0yNPmDW7OM/53kljkT01N6PLEmFbOxVDgWFbIOYpFfbFSNkEUQQrg8cU+2A+a64j9C/6pfi8cqbok6FV/Gh2jPhq1sWaPzZL3wAYm4kKBqynhC4OoZz2wsFa7c/iAW+cXIVlQvCUrwwYabc8q9XV71fqaC7By2iLp+DnPLHFTPN/3tQvgXIi/oTkeTEKhbYFu1u4UhSZxuVWpMJLnLsrllHbPEsJo0rohK5f33Lv0cBVXDhtgAbksqkUjE+PZgQnKgjKqPUanGtimFf//ACbq4syJBBIODg2ItuP1mCsSZqgoarQVxUUX0pLs1IRHtrAW+qNsdKmfyORi3t+QbHNah/i44IsgYm42ZYUlUCAKCg0xHlqMtD+N4hS2fu3uPiX7QOtxDXyfG9LGPI708EicWi1FpaSkFg0HuSQ8Chcon58wU+GJUqdra2igvL4/q6uq4xzqonoFtu9hKDyo7kk36gG1FvdA4WYucE5XTCoinenyRffI11ZgpfAvUMfqTwnwxI6g519GFIhAICN8XA4tpLekw+pOCoaigNTg238xkI7cWHm8tmYOiAK0ki8r735+H67h+UPfw8ETl4TqeqDxchug/imENo/FtO5cAAAAASUVORK5CYII=)\n",
        "\n",
        "Is it: Apple, Mandarin, Banana or Lemon?"
      ]
    },
    {
      "cell_type": "code",
      "metadata": {
        "colab": {
          "base_uri": "https://localhost:8080/"
        },
        "id": "ipKkSSYTDwxD",
        "outputId": "92304f70-6d1e-44d2-fe2d-351b28b6ea00"
      },
      "source": [
        "import numpy as np\n",
        "#data_to_predict = np.array([[192, 8.4, 7.3, 0.55,23]]) # from training set, should be apple\n",
        "data_to_predict = np.array([[3,74,68,28,45,29.7,0.293,23]])\n",
        "data_to_predict = scaler.transform(data_to_predict)\n",
        "print(data_to_predict)\n",
        "\n",
        "# Predict class\n",
        "prediction = nn.predict_proba(data_to_predict)\n",
        "print('Probability of classes:', np.round(prediction[0]*100, decimals=2))"
      ],
      "execution_count": null,
      "outputs": [
        {
          "output_type": "stream",
          "name": "stdout",
          "text": [
            "[[0.17647059 0.3718593  0.59649123 0.28282828 0.05319149 0.51832461\n",
            "  0.09551311 0.03333333]]\n",
            "Probability of classes: [93.46  6.54]\n"
          ]
        },
        {
          "output_type": "stream",
          "name": "stderr",
          "text": [
            "/usr/local/lib/python3.9/dist-packages/sklearn/base.py:439: UserWarning: X does not have valid feature names, but MinMaxScaler was fitted with feature names\n",
            "  warnings.warn(\n"
          ]
        }
      ]
    },
    {
      "cell_type": "markdown",
      "metadata": {
        "id": "MqQinub5CXUl"
      },
      "source": [
        "  # 8) How to store and load the trained model?"
      ]
    },
    {
      "cell_type": "code",
      "metadata": {
        "colab": {
          "base_uri": "https://localhost:8080/"
        },
        "id": "57Pxiyov1Zp3",
        "outputId": "a7ece487-146d-4b14-aaf5-4f43c780dac4"
      },
      "source": [
        "import pickle\n",
        "\n",
        "# save the model to disk\n",
        "filename = 'nn.sav'\n",
        "pickle.dump(nn, open(filename, 'wb'))\n",
        " \n",
        "# some time later...\n",
        " \n",
        "# load the model from disk\n",
        "loaded_model = pickle.load(open(filename, 'rb'))\n",
        "prediction = loaded_model.predict(data_to_predict)\n",
        "prediction"
      ],
      "execution_count": null,
      "outputs": [
        {
          "output_type": "execute_result",
          "data": {
            "text/plain": [
              "array([0])"
            ]
          },
          "metadata": {},
          "execution_count": 18
        }
      ]
    },
    {
      "cell_type": "code",
      "source": [],
      "metadata": {
        "id": "hai0fwR-QWsY"
      },
      "execution_count": null,
      "outputs": []
    }
  ]
}